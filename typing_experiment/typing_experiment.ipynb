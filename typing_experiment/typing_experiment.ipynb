{
 "cells": [
  {
   "cell_type": "markdown",
   "metadata": {
    "deletable": true,
    "editable": true
   },
   "source": [
    "# Chapter 3 testrun\n",
    "\n",
    "Here, I will run explore setting up DOE run-through in Python based on the DOE simplified book, chapter 3."
   ]
  },
  {
   "cell_type": "code",
   "execution_count": 39,
   "metadata": {
    "collapsed": true,
    "deletable": true,
    "editable": true
   },
   "outputs": [],
   "source": [
    "import pandas as pd\n",
    "from functools import reduce\n",
    "import matplotlib.pyplot as plt\n",
    "import numpy as np\n",
    "import math"
   ]
  },
  {
   "cell_type": "code",
   "execution_count": 42,
   "metadata": {
    "collapsed": false,
    "deletable": true,
    "editable": true
   },
   "outputs": [
    {
     "name": "stdout",
     "output_type": "stream",
     "text": [
      "l1 A l2 B\n",
      "l1 A l2 C\n",
      "l1 A l2 D\n",
      "l1 B l2 C\n",
      "l1 B l2 D\n",
      "l1 C l2 D\n",
      "      j_wpm  e_wpm  j_epm  e_epm  A  B  C  D AB ABC ABD AC ACD AD BC BCD BD  \\\n",
      "Run                                                                           \n",
      "7.0   72.47  36.57   11.5   15.5  +  -  -  +  -   +   -  -   -  +  +   +  -   \n",
      "1.0   62.92  40.77   12.5   21.0  +  +  +  +  +   +   +  +   +  +  +   +  +   \n",
      "4.0   71.16  44.15    8.0   12.0  +  +  -  -  +   -   -  -   +  -  -   +  -   \n",
      "13.0  57.69  25.99   11.0    7.5  -  -  +  +  +   +   +  -   -  -  -   -  -   \n",
      "5.0   70.87  44.18   10.5   12.5  +  -  +  +  -   -   -  +   +  +  -   -  -   \n",
      "8.0   76.13  44.94   17.0   22.0  +  -  -  -  -   +   +  -   +  -  +   -  +   \n",
      "11.0  63.80  34.47    7.0    6.5  -  +  -  +  -   +   -  +   +  -  -   -  +   \n",
      "14.0  60.10  31.59   13.0    8.0  -  -  +  -  +   +   -  -   +  +  -   +  +   \n",
      "3.0   69.89  44.21   12.5    9.0  +  +  -  +  +   -   +  -   -  +  -   -  +   \n",
      "15.0  60.89  40.41   15.5   18.0  -  -  -  +  +   -   +  +   +  -  +   +  -   \n",
      "10.0  53.14  33.71    8.0   15.0  -  +  +  -  -   -   +  -   +  +  +   -  -   \n",
      "9.0   58.47  36.45   11.0   18.5  -  +  +  +  -   -   -  -   -  -  +   +  +   \n",
      "6.0   70.99  44.19    7.0   14.0  +  -  +  -  -   -   +  +   -  -  -   +  +   \n",
      "2.0   66.36  45.95   20.0   19.0  +  +  +  -  +   +   -  +   -  -  +   -  -   \n",
      "12.0  63.56  38.37   10.0    5.0  -  +  -  -  -   +   +  +   -  +  -   +  -   \n",
      "16.0  71.99  40.16    6.0   15.0  -  -  -  -  +   -   -  +   -  +  +   -  +   \n",
      "\n",
      "     CD ABCD  \n",
      "Run           \n",
      "7.0   -    +  \n",
      "1.0   +    +  \n",
      "4.0   +    +  \n",
      "13.0  +    +  \n",
      "5.0   +    -  \n",
      "8.0   +    -  \n",
      "11.0  -    +  \n",
      "14.0  -    -  \n",
      "3.0   -    -  \n",
      "15.0  -    -  \n",
      "10.0  -    +  \n",
      "9.0   +    -  \n",
      "6.0   -    +  \n",
      "2.0   -    -  \n",
      "12.0  +    -  \n",
      "16.0  +    +  \n"
     ]
    }
   ],
   "source": [
    "# df = pd.read_csv('TypingDOE.xlsx', index_col=0)\n",
    "df = pd.read_excel('TypingDOE.xlsx', index_col=0)\n",
    "\n",
    "df['Fingers'] = df['Fingers'].astype('category')\n",
    "df['Dist'] = df['Dist'].astype('category')\n",
    "df['Burp'] = df['Burp'].astype('category')\n",
    "df['Time'] = df['Time'].astype('category')\n",
    "\n",
    "def get_high_low(x, low_category):\n",
    "    if x == low_category:\n",
    "        return '-'\n",
    "    else:\n",
    "        return '+'\n",
    "\n",
    "factor_df = pd.DataFrame(index=df.index)\n",
    "factor_df['j_wpm'] = df['J_wpm']\n",
    "factor_df['e_wpm'] = df['E_wpm']\n",
    "factor_df['j_epm'] = df['J_epm']\n",
    "factor_df['e_epm'] = df['E_epm']\n",
    "factor_df['A'] = df['Fingers'].apply(get_high_low, args=(0,))\n",
    "factor_df['B'] = df['Dist'].apply(get_high_low, args=(0,))\n",
    "factor_df['C'] = df['Burp'].apply(get_high_low, args=(0,))\n",
    "factor_df['D'] = df['Time'].apply(get_high_low, args=(0,))\n",
    "\n",
    "def calculate_interaction(data_df, cols):\n",
    "    slices = data_df[cols].apply(tuple, axis=1)\n",
    "    \n",
    "    interaction = list()\n",
    "    for tup in slices:\n",
    "        int_tup = reduce(lambda a,b: '+' if a == b else '-', tup)\n",
    "        interaction.append(int_tup)\n",
    "    return interaction\n",
    "\n",
    "all_cols = list()\n",
    "\n",
    "for l1 in 'ABCD':\n",
    "    all_cols.append(l1)\n",
    "    l1_passed.add(l1)\n",
    "    for l2 in 'ABCD':\n",
    "        if l2 > l1:\n",
    "            factor_df[l1+l2] = calculate_interaction(factor_df, [l1, l2])\n",
    "            all_cols.append(l1+l2)\n",
    "            print('l1 {} l2 {}'.format(l1, l2))\n",
    "        for l3 in 'ABCD':\n",
    "#             if l2 not in l2_passed:\n",
    "            if l3 > l2 and l3 > l1 and l2 > l1:\n",
    "                all_cols.append(l1+l2+l3)\n",
    "                factor_df[l1+l2+l3] = calculate_interaction(factor_df, [l1, l2, l3])\n",
    "all_cols.append('ABCD')\n",
    "factor_df['ABCD'] = calculate_interaction(factor_df, ['A', 'B', 'C', 'D'])\n",
    "                \n",
    "            \n",
    "# factor_df['AB'] = calculate_interaction(factor_df, ['A', 'B'])\n",
    "# factor_df['AC'] = calculate_interaction(factor_df, ['A', 'C'])\n",
    "# factor_df['BC'] = calculate_interaction(factor_df, ['B', 'C'])\n",
    "# factor_df['ABC'] = calculate_interaction(factor_df, ['A', 'B', 'C'])\n",
    "\n",
    "factor_df = factor_df.iloc[0:-1]\n",
    "\n",
    "print(factor_df)"
   ]
  },
  {
   "cell_type": "code",
   "execution_count": 33,
   "metadata": {
    "collapsed": false,
    "deletable": true,
    "editable": true
   },
   "outputs": [
    {
     "name": "stdout",
     "output_type": "stream",
     "text": [
      "             A      AB     ABC     ABD      AC     ACD      AD       B  \\\n",
      "j_wpm  17.7875 -2.1075 -1.0925 -5.0025  3.0825 -3.1025 -0.1375 -7.9575   \n",
      "e_wpm  15.9525  0.0875 -7.2025 -0.2325  7.7225  0.5825 -1.7475  2.5125   \n",
      "j_epm    4.375   4.125   5.875   1.625  -0.875   0.625  -3.125  -0.625   \n",
      "e_epm    7.875   0.125  -2.375   1.125   0.875   2.875  -4.125  -1.625   \n",
      "\n",
      "           BC     BCD      BD        C      CD       D    ABCD  \n",
      "j_wpm -1.4225 -2.3275  4.5375 -12.3375  3.7875 -4.1075 -0.5275  \n",
      "e_wpm  2.9525 -0.2775  1.8625  -5.1125  0.9775 -5.0025 -6.5225  \n",
      "j_epm   5.625  -0.875  -2.125    1.375  -2.125   0.625  -9.625  \n",
      "e_epm  17.375   1.375   2.375    3.125   2.125  -0.375  -1.375  \n"
     ]
    }
   ],
   "source": [
    "factor_effects = pd.DataFrame(columns=all_cols, index=['j_wpm', 'e_wpm', 'j_epm', 'e_epm'])\n",
    "\n",
    "def get_factor_effect(factor_col, effect_col, data_df):\n",
    "    \n",
    "    combined = zip(data_df[factor_col], data_df[effect_col])\n",
    "    summed = 0\n",
    "    for elem in combined:\n",
    "        level = elem[0]\n",
    "        value = elem[1]\n",
    "        if level == '+':\n",
    "            summed += value\n",
    "        else:\n",
    "            summed -= value\n",
    "    return summed\n",
    "\n",
    "for factor in factor_effects.columns:\n",
    "    for effect in factor_effects.index:\n",
    "        factor_effects.ix[effect, factor] = get_factor_effect(factor, effect, factor_df) / 4\n",
    "\n",
    "print(factor_effects)"
   ]
  },
  {
   "cell_type": "code",
   "execution_count": 34,
   "metadata": {
    "collapsed": false,
    "deletable": true,
    "editable": true
   },
   "outputs": [
    {
     "data": {
      "image/png": "[encoded data removed]",
      "text/plain": [
       "<matplotlib.figure.Figure at 0x7f2ba45a6940>"
      ]
     },
     "metadata": {},
     "output_type": "display_data"
    },
    {
     "data": {
      "image/png": "[encoded data removed]",
      "text/plain": [
       "<matplotlib.figure.Figure at 0x7f2b9e23ecf8>"
      ]
     },
     "metadata": {},
     "output_type": "display_data"
    },
    {
     "data": {
      "image/png": "[encoded data removed]",
      "text/plain": [
       "<matplotlib.figure.Figure at 0x7f2b9e23ecc0>"
      ]
     },
     "metadata": {},
     "output_type": "display_data"
    },
    {
     "data": {
      "image/png": "[encoded data removed]",
      "text/plain": [
       "<matplotlib.figure.Figure at 0x7f2b9e1ad748>"
      ]
     },
     "metadata": {},
     "output_type": "display_data"
    }
   ],
   "source": [
    "j_wpm_abs_effect = factor_effects.loc['j_wpm'].map(abs).sort_values()\n",
    "e_wpm_abs_effect = factor_effects.loc['e_wpm'].map(abs).sort_values()\n",
    "j_epm_abs_effect = factor_effects.loc['j_epm'].map(abs).sort_values()\n",
    "e_epm_abs_effect = factor_effects.loc['e_epm'].map(abs).sort_values()\n",
    "\n",
    "def add_labels(plt, effect, prob):\n",
    "    for i in range(len(effect)):\n",
    "        plt.annotate(effect.index[i],\n",
    "                     xy = (effect[i], prob[i]))    \n",
    "\n",
    "def annotate(plt, title):\n",
    "    \n",
    "    plt.xlabel('Effect')\n",
    "    plt.ylabel('Cumulative probability')\n",
    "    plt.title(title)\n",
    "        \n",
    "tot_c = len(j_wpm_abs_effect)\n",
    "        \n",
    "plt.figure()\n",
    "cum_prob = np.arange(0, 1, 1 / tot_c)\n",
    "plt.plot(j_wpm_abs_effect, cum_prob, 'x')\n",
    "add_labels(plt, j_wpm_abs_effect, cum_prob)\n",
    "annotate(plt, 'J wpm')\n",
    "plt.show()\n",
    "\n",
    "plt.figure()\n",
    "cum_prob = np.arange(0, 1, 1 / tot_c)\n",
    "plt.plot(e_wpm_abs_effect, cum_prob, 'x')\n",
    "add_labels(plt, e_wpm_abs_effect, cum_prob)\n",
    "annotate(plt, 'E wpm')\n",
    "plt.show()\n",
    "\n",
    "plt.figure()\n",
    "cum_prob = np.arange(0, 1, 1 / tot_c)\n",
    "plt.plot(j_epm_abs_effect, cum_prob, 'x')\n",
    "add_labels(plt, j_epm_abs_effect, cum_prob)\n",
    "annotate(plt, 'J epm')\n",
    "plt.show()\n",
    "\n",
    "plt.figure()\n",
    "cum_prob = np.arange(0, 1, 1 / tot_c)\n",
    "plt.plot(e_epm_abs_effect, cum_prob, 'x')\n",
    "add_labels(plt, e_epm_abs_effect, cum_prob)\n",
    "annotate(plt, 'E epm')\n",
    "plt.show()\n",
    "\n"
   ]
  },
  {
   "cell_type": "markdown",
   "metadata": {
    "deletable": true,
    "editable": true
   },
   "source": [
    "# Getting into the statistics\n",
    "\n",
    "Reference:\n",
    "* A - Brand\n",
    "* B - Time\n",
    "* C - Power\n",
    "* y1 - Taste\n",
    "* y2 - Bullets\n",
    "\n",
    "Steps below initially based on: http://www.marsja.se/three-ways-to-carry-out-2-way-anova-with-python/"
   ]
  },
  {
   "cell_type": "code",
   "execution_count": 27,
   "metadata": {
    "collapsed": false,
    "deletable": true,
    "editable": true
   },
   "outputs": [
    {
     "name": "stdout",
     "output_type": "stream",
     "text": [
      "       Actual run order Fingers Dist Burp Time  J_e  J_epm    J_epmc  J_c  \\\n",
      "Run                                                                         \n",
      " 7.0                  1       1    0    0    1   23   11.5  0.015840  726   \n",
      " 1.0                  2       1    1    1    1   25   12.5  0.019841  630   \n",
      " 4.0                  3       1    1    0    0    8    8.0  0.022472  356   \n",
      " 13.0                 5       0    0    1    1   22   11.0  0.019031  578   \n",
      " 5.0                  4       1    0    1    1   21   10.5  0.014810  709   \n",
      " 8.0                  6       1    0    0    0   17   17.0  0.044619  381   \n",
      " 11.0                 7       0    1    0    1   14    7.0  0.010972  638   \n",
      " 14.0                 8       0    0    1    0   13   13.0  0.043189  301   \n",
      " 3.0                  9       1    1    0    1   25   12.5  0.017883  699   \n",
      " 15.0                11       0    0    0    1   31   15.5  0.025452  609   \n",
      " 10.0                10       0    1    1    0    8    8.0  0.030075  266   \n",
      " 9.0                 12       0    1    1    1   22   11.0  0.018771  586   \n",
      " 6.0                 13       1    0    1    0    7    7.0  0.019718  355   \n",
      " 2.0                 14       1    1    1    0   20   20.0  0.060241  332   \n",
      " 12.0                15       0    1    0    0   10   10.0  0.031447  318   \n",
      " 16.0                16       0    0    0    0    6    6.0  0.016620  361   \n",
      "NaN                  17       1    0    0    0   12   12.0  0.034582  347   \n",
      "\n",
      "       J_wpm  E_r  E_c  E_wpm  E_epm    E_epmc  \n",
      "Run                                             \n",
      " 7.0   72.47   31  366  36.57   15.5  0.042350  \n",
      " 1.0   62.92   42  408  40.77   21.0  0.051471  \n",
      " 4.0   71.16   12  221  44.15   12.0  0.054299  \n",
      " 13.0  57.69   15  260  25.99    7.5  0.028846  \n",
      " 5.0   70.87   25  442  44.18   12.5  0.028281  \n",
      " 8.0   76.13   22  225  44.94   22.0  0.097778  \n",
      " 11.0  63.80   13  345  34.47    6.5  0.018841  \n",
      " 14.0  60.10    8  159  31.59    8.0  0.050314  \n",
      " 3.0   69.89   18  444  44.21    9.0  0.020270  \n",
      " 15.0  60.89   36  405  40.41   18.0  0.044444  \n",
      " 10.0  53.14   15  170  33.71   15.0  0.088235  \n",
      " 9.0   58.47   37  365  36.45   18.5  0.050685  \n",
      " 6.0   70.99   14  221  44.19   14.0  0.063348  \n",
      " 2.0   66.36   19  230  45.95   19.0  0.082609  \n",
      " 12.0  63.56    5  193  38.37    5.0  0.025907  \n",
      " 16.0  71.99   15  201  40.16   15.0  0.074627  \n",
      "NaN    69.26   12  241  48.07   12.0  0.049793  \n"
     ]
    }
   ],
   "source": [
    "print(df)"
   ]
  },
  {
   "cell_type": "code",
   "execution_count": 28,
   "metadata": {
    "collapsed": false,
    "deletable": true,
    "editable": true
   },
   "outputs": [
    {
     "name": "stdout",
     "output_type": "stream",
     "text": [
      "       j_wpm  e_wpm  j_epm  e_epm  A  B  C  D AB ABC ABD AC ACD AD BC BCD BD  \\\n",
      "Run                                                                            \n",
      " 7.0   72.47  36.57   11.5   15.5  +  -  -  +  -   +   -  -   -  +  +   +  -   \n",
      " 1.0   62.92  40.77   12.5   21.0  +  +  +  +  +   +   +  +   +  +  +   +  +   \n",
      " 4.0   71.16  44.15    8.0   12.0  +  +  -  -  +   -   -  -   +  -  -   +  -   \n",
      " 13.0  57.69  25.99   11.0    7.5  -  -  +  +  +   +   +  -   -  -  -   -  -   \n",
      " 5.0   70.87  44.18   10.5   12.5  +  -  +  +  -   -   -  +   +  +  -   -  -   \n",
      " 8.0   76.13  44.94   17.0   22.0  +  -  -  -  -   +   +  -   +  -  +   -  +   \n",
      " 11.0  63.80  34.47    7.0    6.5  -  +  -  +  -   +   -  +   +  -  -   -  +   \n",
      " 14.0  60.10  31.59   13.0    8.0  -  -  +  -  +   +   -  -   +  +  -   +  +   \n",
      " 3.0   69.89  44.21   12.5    9.0  +  +  -  +  +   -   +  -   -  +  -   -  +   \n",
      " 15.0  60.89  40.41   15.5   18.0  -  -  -  +  +   -   +  +   +  -  +   +  -   \n",
      " 10.0  53.14  33.71    8.0   15.0  -  +  +  -  -   -   +  -   +  +  +   -  -   \n",
      " 9.0   58.47  36.45   11.0   18.5  -  +  +  +  -   -   -  -   -  -  +   +  +   \n",
      " 6.0   70.99  44.19    7.0   14.0  +  -  +  -  -   -   +  +   -  -  -   +  +   \n",
      " 2.0   66.36  45.95   20.0   19.0  +  +  +  -  +   +   -  +   -  -  +   -  -   \n",
      " 12.0  63.56  38.37   10.0    5.0  -  +  -  -  -   +   +  +   -  +  -   +  -   \n",
      " 16.0  71.99  40.16    6.0   15.0  -  -  -  -  +   -   -  +   -  +  +   -  +   \n",
      "NaN    69.26  48.07   12.0   12.0  +  -  -  -  -   +   +  -   +  -  +   -  +   \n",
      "\n",
      "      CD ABCD  \n",
      "Run            \n",
      " 7.0   -    +  \n",
      " 1.0   +    +  \n",
      " 4.0   +    +  \n",
      " 13.0  +    +  \n",
      " 5.0   +    -  \n",
      " 8.0   +    -  \n",
      " 11.0  -    +  \n",
      " 14.0  -    -  \n",
      " 3.0   -    -  \n",
      " 15.0  -    -  \n",
      " 10.0  -    +  \n",
      " 9.0   +    -  \n",
      " 6.0   -    +  \n",
      " 2.0   -    -  \n",
      " 12.0  +    -  \n",
      " 16.0  +    +  \n",
      "NaN    +    -  \n"
     ]
    }
   ],
   "source": [
    "print(factor_df)"
   ]
  },
  {
   "cell_type": "code",
   "execution_count": 29,
   "metadata": {
    "collapsed": false,
    "deletable": true,
    "editable": true
   },
   "outputs": [],
   "source": [
    "# Let's use some more statistics-related packages\n",
    "from statsmodels.formula.api import ols\n",
    "from statsmodels.stats.anova import anova_lm\n",
    "from statsmodels.graphics.factorplots import interaction_plot\n",
    "from scipy import stats"
   ]
  },
  {
   "cell_type": "code",
   "execution_count": 191,
   "metadata": {
    "collapsed": true,
    "deletable": true,
    "editable": true
   },
   "outputs": [],
   "source": [
    "# Working tooth example\n",
    "\n",
    "# data = pd.read_csv('ToothGrowth.csv')\n",
    "# dose_series = data['dose']\n",
    "# print(dose_series.head())\n",
    "# print(data.head())\n",
    "# print(df.head())\n",
    "\n",
    "# plt.figure()\n",
    "# fig = interaction_plot(dose_series, data.supp, data.len,\n",
    "#              colors=['red','blue'], markers=['D','^'], ms=10)\n",
    "# plt.show()"
   ]
  },
  {
   "cell_type": "code",
   "execution_count": 38,
   "metadata": {
    "collapsed": false,
    "deletable": true,
    "editable": true
   },
   "outputs": [
    {
     "data": {
      "image/png": "[encoded data removed]",
      "text/plain": [
       "<matplotlib.figure.Figure at 0x7f2b9e25aa58>"
      ]
     },
     "metadata": {},
     "output_type": "display_data"
    }
   ],
   "source": [
    "# print('Not satisfied here :\\ Different from book, but why?')\n",
    "\n",
    "# time_series = df['time'].astype('float')\n",
    "# time_series.index = list(range(0,8))\n",
    "# fig1 = interaction_plot(time_series, df['power'], df['taste'])\n",
    "# plt.show()\n",
    "\n",
    "b_series = factor_df['B'].map(lambda x: 0 if x == '-' else 1).astype('float')\n",
    "b_series.index = list(range(0,16))\n",
    "# print(b_series)\n",
    "fig2 = interaction_plot(b_series, factor_df['C'], factor_df['e_epm'])\n",
    "plt.show()"
   ]
  },
  {
   "cell_type": "markdown",
   "metadata": {
    "deletable": true,
    "editable": true
   },
   "source": [
    "# UPCOMING: ANOVAS AND PREDICTION\n",
    "\n",
    "* List item \n",
    "* List 2\n",
    "\n",
    "sakdjskaldj"
   ]
  },
  {
   "cell_type": "code",
   "execution_count": 41,
   "metadata": {
    "collapsed": false,
    "deletable": true,
    "editable": true
   },
   "outputs": [
    {
     "name": "stdout",
     "output_type": "stream",
     "text": [
      "4\n"
     ]
    }
   ],
   "source": [
    "my_variable = 2 * 2\n",
    "print(my_variable)"
   ]
  },
  {
   "cell_type": "code",
   "execution_count": null,
   "metadata": {
    "collapsed": true
   },
   "outputs": [],
   "source": []
  }
 ],
 "metadata": {
  "kernelspec": {
   "display_name": "Python 3",
   "language": "python",
   "name": "python3"
  },
  "language_info": {
   "codemirror_mode": {
    "name": "ipython",
    "version": 3
   },
   "file_extension": ".py",
   "mimetype": "text/x-python",
   "name": "python",
   "nbconvert_exporter": "python",
   "pygments_lexer": "ipython3",
   "version": "3.5.2"
  }
 },
 "nbformat": 4,
 "nbformat_minor": 2
}
