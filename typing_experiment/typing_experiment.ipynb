{
 "cells": [
  {
   "cell_type": "markdown",
   "metadata": {
    "deletable": true,
    "editable": true
   },
   "source": [
    "# Chapter 3 testrun\n",
    "\n",
    "Here, I will run explore setting up DOE run-through in Python based on the DOE simplified book, chapter 3."
   ]
  },
  {
   "cell_type": "code",
   "execution_count": 8,
   "metadata": {
    "collapsed": true,
    "deletable": true,
    "editable": true
   },
   "outputs": [],
   "source": [
    "import pandas as pd\n",
    "from functools import reduce\n",
    "import matplotlib.pyplot as plt\n",
    "import numpy as np\n",
    "import math"
   ]
  },
  {
   "cell_type": "code",
   "execution_count": 14,
   "metadata": {
    "collapsed": false,
    "deletable": true,
    "editable": true
   },
   "outputs": [
    {
     "name": "stdout",
     "output_type": "stream",
     "text": [
      "l1 A l2 B\n",
      "l1 A l2 C\n",
      "l1 A l2 D\n",
      "l1 B l2 C\n",
      "l1 B l2 D\n",
      "l1 C l2 D\n",
      "      j_wpm  e_wpm  j_epm  e_epm  A  B  C  D AB ABC ABD AC ACD AD BC BCD BD  \\\n",
      "Run                                                                           \n",
      "7.0   72.47  36.57   11.5   15.5  +  -  -  +  -   +   -  -   -  +  +   +  -   \n",
      "1.0   62.92  40.77   12.5   21.0  +  +  +  +  +   +   +  +   +  +  +   +  +   \n",
      "4.0   71.16  44.15    8.0   12.0  +  +  -  -  +   -   -  -   +  -  -   +  -   \n",
      "13.0  57.69  25.99   11.0    7.5  -  -  +  +  +   +   +  -   -  -  -   -  -   \n",
      "5.0   70.87  44.18   10.5   12.5  +  -  +  +  -   -   -  +   +  +  -   -  -   \n",
      "8.0   76.13  44.94   17.0   22.0  +  -  -  -  -   +   +  -   +  -  +   -  +   \n",
      "11.0  63.80  34.47    7.0    6.5  -  +  -  +  -   +   -  +   +  -  -   -  +   \n",
      "14.0  60.10  31.59   13.0    8.0  -  -  +  -  +   +   -  -   +  +  -   +  +   \n",
      "3.0   69.89  44.21   12.5    9.0  +  +  -  +  +   -   +  -   -  +  -   -  +   \n",
      "15.0  60.89  40.41   15.5   18.0  -  -  -  +  +   -   +  +   +  -  +   +  -   \n",
      "10.0  53.14  33.71    8.0   15.0  -  +  +  -  -   -   +  -   +  +  +   -  -   \n",
      "9.0   58.47  36.45   11.0   18.5  -  +  +  +  -   -   -  -   -  -  +   +  +   \n",
      "6.0   70.99  44.19    7.0   14.0  +  -  +  -  -   -   +  +   -  -  -   +  +   \n",
      "2.0   66.36  45.95   20.0   19.0  +  +  +  -  +   +   -  +   -  -  +   -  -   \n",
      "12.0  63.56  38.37   10.0    5.0  -  +  -  -  -   +   +  +   -  +  -   +  -   \n",
      "16.0  71.99  40.16    6.0   15.0  -  -  -  -  +   -   -  +   -  +  +   -  +   \n",
      "\n",
      "     CD ABCD  \n",
      "Run           \n",
      "7.0   -    +  \n",
      "1.0   +    +  \n",
      "4.0   +    +  \n",
      "13.0  +    +  \n",
      "5.0   +    -  \n",
      "8.0   +    -  \n",
      "11.0  -    +  \n",
      "14.0  -    -  \n",
      "3.0   -    -  \n",
      "15.0  -    -  \n",
      "10.0  -    +  \n",
      "9.0   +    -  \n",
      "6.0   -    +  \n",
      "2.0   -    -  \n",
      "12.0  +    -  \n",
      "16.0  +    +  \n"
     ]
    }
   ],
   "source": [
    "# df = pd.read_csv('TypingDOE.xlsx', index_col=0)\n",
    "df = pd.read_excel('TypingDOE.xlsx', index_col=0)\n",
    "\n",
    "df['Fingers'] = df['Fingers'].astype('category')\n",
    "df['Dist'] = df['Dist'].astype('category')\n",
    "df['Burp'] = df['Burp'].astype('category')\n",
    "df['Time'] = df['Time'].astype('category')\n",
    "\n",
    "def get_high_low(x, low_category):\n",
    "    if x == low_category:\n",
    "        return '-'\n",
    "    else:\n",
    "        return '+'\n",
    "\n",
    "factor_df = pd.DataFrame(index=df.index)\n",
    "factor_df['j_wpm'] = df['J_wpm']\n",
    "factor_df['e_wpm'] = df['E_wpm']\n",
    "factor_df['j_epm'] = df['J_epm']\n",
    "factor_df['e_epm'] = df['E_epm']\n",
    "factor_df['A'] = df['Fingers'].apply(get_high_low, args=(0,))\n",
    "factor_df['B'] = df['Dist'].apply(get_high_low, args=(0,))\n",
    "factor_df['C'] = df['Burp'].apply(get_high_low, args=(0,))\n",
    "factor_df['D'] = df['Time'].apply(get_high_low, args=(0,))\n",
    "\n",
    "def calculate_interaction(data_df, cols):\n",
    "    slices = data_df[cols].apply(tuple, axis=1)\n",
    "    \n",
    "    interaction = list()\n",
    "    for tup in slices:\n",
    "        int_tup = reduce(lambda a,b: '+' if a == b else '-', tup)\n",
    "        interaction.append(int_tup)\n",
    "    return interaction\n",
    "\n",
    "# all_cols = list()\n",
    "# l1_passed = set()\n",
    "\n",
    "def get_combinations(letter_str):\n",
    "\n",
    "    all_cols = list()\n",
    "    for l1 in 'ABCD':\n",
    "        all_cols.append(l1)\n",
    "        for l2 in 'ABCD':\n",
    "            if l2 > l1:\n",
    "                factor_df[l1+l2] = calculate_interaction(factor_df, [l1, l2])\n",
    "                all_cols.append(l1+l2)\n",
    "                print('l1 {} l2 {}'.format(l1, l2))\n",
    "            for l3 in 'ABCD':\n",
    "                if l3 > l2 and l3 > l1 and l2 > l1:\n",
    "                    all_cols.append(l1+l2+l3)\n",
    "                    factor_df[l1+l2+l3] = calculate_interaction(factor_df, [l1, l2, l3])\n",
    "    all_cols.append('ABCD')\n",
    "    return all_cols\n",
    "\n",
    "all_cols = get_combinations('ABCD')\n",
    "factor_df['ABCD'] = calculate_interaction(factor_df, ['A', 'B', 'C', 'D'])                \n",
    "factor_df = factor_df.iloc[0:-1]\n",
    "\n",
    "print(factor_df)"
   ]
  },
  {
   "cell_type": "code",
   "execution_count": 15,
   "metadata": {
    "collapsed": false,
    "deletable": true,
    "editable": true
   },
   "outputs": [
    {
     "name": "stdout",
     "output_type": "stream",
     "text": [
      "             A      AB     ABC     ABD      AC     ACD      AD       B  \\\n",
      "j_wpm  17.7875 -2.1075 -1.0925 -5.0025  3.0825 -3.1025 -0.1375 -7.9575   \n",
      "e_wpm  15.9525  0.0875 -7.2025 -0.2325  7.7225  0.5825 -1.7475  2.5125   \n",
      "j_epm    4.375   4.125   5.875   1.625  -0.875   0.625  -3.125  -0.625   \n",
      "e_epm    7.875   0.125  -2.375   1.125   0.875   2.875  -4.125  -1.625   \n",
      "\n",
      "           BC     BCD      BD        C      CD       D    ABCD  \n",
      "j_wpm -1.4225 -2.3275  4.5375 -12.3375  3.7875 -4.1075 -0.5275  \n",
      "e_wpm  2.9525 -0.2775  1.8625  -5.1125  0.9775 -5.0025 -6.5225  \n",
      "j_epm   5.625  -0.875  -2.125    1.375  -2.125   0.625  -9.625  \n",
      "e_epm  17.375   1.375   2.375    3.125   2.125  -0.375  -1.375  \n"
     ]
    }
   ],
   "source": [
    "factor_effects = pd.DataFrame(columns=all_cols, index=['j_wpm', 'e_wpm', 'j_epm', 'e_epm'])\n",
    "\n",
    "def get_factor_effect(factor_col, effect_col, data_df):\n",
    "    \n",
    "    combined = zip(data_df[factor_col], data_df[effect_col])\n",
    "    summed = 0\n",
    "    for elem in combined:\n",
    "        level = elem[0]\n",
    "        value = elem[1]\n",
    "        if level == '+':\n",
    "            summed += value\n",
    "        else:\n",
    "            summed -= value\n",
    "    return summed\n",
    "\n",
    "for factor in factor_effects.columns:\n",
    "    for effect in factor_effects.index:\n",
    "        factor_effects.ix[effect, factor] = get_factor_effect(factor, effect, factor_df) / 4\n",
    "\n",
    "print(factor_effects)"
   ]
  },
  {
   "cell_type": "code",
   "execution_count": 16,
   "metadata": {
    "collapsed": false,
    "deletable": true,
    "editable": true
   },
   "outputs": [
    {
     "data": {
      "image/png": "[encoded data removed]",
      "text/plain": [
       "<matplotlib.figure.Figure at 0x7fcc559b3080>"
      ]
     },
     "metadata": {},
     "output_type": "display_data"
    },
    {
     "data": {
      "image/png": "[encoded data removed]",
      "text/plain": [
       "<matplotlib.figure.Figure at 0x7fcc55927a20>"
      ]
     },
     "metadata": {},
     "output_type": "display_data"
    },
    {
     "data": {
      "image/png": "[encoded data removed]",
      "text/plain": [
       "<matplotlib.figure.Figure at 0x7fcc559279e8>"
      ]
     },
     "metadata": {},
     "output_type": "display_data"
    },
    {
     "data": {
      "image/png": "[encoded data removed]",
      "text/plain": [
       "<matplotlib.figure.Figure at 0x7fcc53855cc0>"
      ]
     },
     "metadata": {},
     "output_type": "display_data"
    }
   ],
   "source": [
    "j_wpm_abs_effect = factor_effects.loc['j_wpm'].map(abs).sort_values()\n",
    "e_wpm_abs_effect = factor_effects.loc['e_wpm'].map(abs).sort_values()\n",
    "j_epm_abs_effect = factor_effects.loc['j_epm'].map(abs).sort_values()\n",
    "e_epm_abs_effect = factor_effects.loc['e_epm'].map(abs).sort_values()\n",
    "\n",
    "def add_labels(plt, effect, prob):\n",
    "    for i in range(len(effect)):\n",
    "        plt.annotate(effect.index[i],\n",
    "                     xy = (effect[i], prob[i]))    \n",
    "\n",
    "def annotate(plt, title):\n",
    "    \n",
    "    plt.xlabel('Effect')\n",
    "    plt.ylabel('Cumulative probability')\n",
    "    plt.title(title)\n",
    "        \n",
    "tot_c = len(j_wpm_abs_effect)\n",
    "        \n",
    "plt.figure()\n",
    "cum_prob = np.arange(0, 1, 1 / tot_c)\n",
    "plt.plot(j_wpm_abs_effect, cum_prob, 'x')\n",
    "add_labels(plt, j_wpm_abs_effect, cum_prob)\n",
    "annotate(plt, 'J wpm')\n",
    "plt.show()\n",
    "\n",
    "plt.figure()\n",
    "cum_prob = np.arange(0, 1, 1 / tot_c)\n",
    "plt.plot(e_wpm_abs_effect, cum_prob, 'x')\n",
    "add_labels(plt, e_wpm_abs_effect, cum_prob)\n",
    "annotate(plt, 'E wpm')\n",
    "plt.show()\n",
    "\n",
    "plt.figure()\n",
    "cum_prob = np.arange(0, 1, 1 / tot_c)\n",
    "plt.plot(j_epm_abs_effect, cum_prob, 'x')\n",
    "add_labels(plt, j_epm_abs_effect, cum_prob)# print(b_series)\n",
    "\n",
    "annotate(plt, 'J epm')\n",
    "plt.show()\n",
    "\n",
    "plt.figure()\n",
    "cum_prob = np.arange(0, 1, 1 / tot_c)\n",
    "plt.plot(e_epm_abs_effect, cum_prob, 'x')\n",
    "add_labels(plt, e_epm_abs_effect, cum_prob)\n",
    "annotate(plt, 'E epm')\n",
    "plt.show()\n",
    "\n"
   ]
  },
  {
   "cell_type": "markdown",
   "metadata": {
    "deletable": true,
    "editable": true
   },
   "source": [
    "# Getting into the statistics\n",
    "\n",
    "Reference:\n",
    "* A - Brand\n",
    "* B - Time\n",
    "* C - Power\n",
    "* y1 - Taste\n",
    "* y2 - Bullets\n",
    "\n",
    "Steps below initially based on: http://www.marsja.se/three-ways-to-carry-out-2-way-anova-with-python/"
   ]
  },
  {
   "cell_type": "code",
   "execution_count": null,
   "metadata": {
    "collapsed": false,
    "deletable": true,
    "editable": true
   },
   "outputs": [],
   "source": [
    "print(df)"
   ]
  },
  {
   "cell_type": "code",
   "execution_count": null,
   "metadata": {
    "collapsed": false,
    "deletable": true,
    "editable": true
   },
   "outputs": [],
   "source": [
    "print(factor_df)"
   ]
  },
  {
   "cell_type": "code",
   "execution_count": 75,
   "metadata": {
    "collapsed": false,
    "deletable": true,
    "editable": true
   },
   "outputs": [],
   "source": [
    "# Let's use some more statistics-related packages\n",
    "from statsmodels.formula.api import ols\n",
    "from statsmodels.stats.anova import anova_lm\n",
    "import statsmodels.api as sm\n",
    "from statsmodels.graphics.factorplots import interaction_plot\n",
    "from scipy import stats\n",
    "import matplotlib.pyplot as plt"
   ]
  },
  {
   "cell_type": "code",
   "execution_count": null,
   "metadata": {
    "collapsed": true,
    "deletable": true,
    "editable": true
   },
   "outputs": [],
   "source": [
    "# Working tooth example\n",
    "\n",
    "# data = pd.read_csv('ToothGrowth.csv')\n",
    "# dose_series = data['dose']\n",
    "# print(dose_series.head())\n",
    "# print(data.head())\n",
    "# print(df.head())\n",
    "\n",
    "# plt.figure()\n",
    "# fig = interaction_plot(dose_series, data.supp, data.len,\n",
    "#              colors=['red','blue'], markers=['D','^'], ms=10)\n",
    "# plt.show()"
   ]
  },
  {
   "cell_type": "code",
   "execution_count": 27,
   "metadata": {
    "collapsed": false,
    "deletable": true,
    "editable": true
   },
   "outputs": [
    {
     "data": {
      "image/png": "[encoded data removed]",
      "text/plain": [
       "<matplotlib.figure.Figure at 0x7fcc535e2470>"
      ]
     },
     "metadata": {},
     "output_type": "display_data"
    },
    {
     "data": {
      "image/png": "[encoded data removed]",
      "text/plain": [
       "<matplotlib.figure.Figure at 0x7fcc559efcc0>"
      ]
     },
     "metadata": {},
     "output_type": "display_data"
    }
   ],
   "source": [
    "b_series = factor_df['B'].map(lambda x: 0 if x == '-' else 1).astype('float')\n",
    "b_series.index = list(range(0,16))\n",
    "fig2 = interaction_plot(b_series, factor_df['C'], factor_df['e_epm'])\n",
    "fig2.suptitle('Erik distraction (B) / burpee (C) interaction')\n",
    "plt.show()\n",
    "\n",
    "b_series_j = factor_df['B'].map(lambda x: 0 if x == '-' else 1).astype('float')\n",
    "b_series_j.index = list(range(0,16))\n",
    "fig_j = interaction_plot(b_series_j, factor_df['C'], factor_df['j_epm'])\n",
    "fig_j.suptitle('Jakob distraction (B) / burpee (C) interaction')\n",
    "plt.show()"
   ]
  },
  {
   "cell_type": "markdown",
   "metadata": {
    "deletable": true,
    "editable": true
   },
   "source": [
    "# UPCOMING: ANOVAS AND PREDICTION\n",
    "\n",
    "* Assign linear model\n",
    "* Test it using statsmodels F-test"
   ]
  },
  {
   "cell_type": "code",
   "execution_count": 39,
   "metadata": {
    "collapsed": false,
    "deletable": true,
    "editable": true
   },
   "outputs": [
    {
     "name": "stdout",
     "output_type": "stream",
     "text": [
      "                            OLS Regression Results                            \n",
      "==============================================================================\n",
      "Dep. Variable:                  j_wpm   R-squared:                       0.731\n",
      "Model:                            OLS   Adj. R-squared:                  0.689\n",
      "Method:                 Least Squares   F-statistic:                     17.64\n",
      "Date:                Wed, 08 Mar 2017   Prob (F-statistic):           0.000198\n",
      "Time:                        17:35:49   Log-Likelihood:                -41.733\n",
      "No. Observations:                  16   AIC:                             89.47\n",
      "Df Residuals:                      13   BIC:                             91.78\n",
      "Df Model:                           2                                         \n",
      "Covariance Type:            nonrobust                                         \n",
      "==============================================================================\n",
      "                 coef    std err          t      P>|t|      [0.025      0.975]\n",
      "------------------------------------------------------------------------------\n",
      "Intercept     64.2894      1.578     40.740      0.000      60.880      67.699\n",
      "C[T.+]        -6.1687      1.822     -3.385      0.005     -10.105      -2.232\n",
      "A[T.+]         8.8937      1.822      4.881      0.000       4.957      12.830\n",
      "==============================================================================\n",
      "Omnibus:                        1.617   Durbin-Watson:                   1.273\n",
      "Prob(Omnibus):                  0.445   Jarque-Bera (JB):                0.945\n",
      "Skew:                           0.588   Prob(JB):                        0.623\n",
      "Kurtosis:                       2.814   Cond. No.                         3.19\n",
      "==============================================================================\n",
      "\n",
      "Warnings:\n",
      "[1] Standard Errors assume that the covariance matrix of the errors is correctly specified.\n"
     ]
    },
    {
     "name": "stderr",
     "output_type": "stream",
     "text": [
      "/usr/local/lib/python3.5/dist-packages/scipy/stats/stats.py:1327: UserWarning: kurtosistest only valid for n>=20 ... continuing anyway, n=16\n",
      "  \"anyway, n=%i\" % int(n))\n"
     ]
    }
   ],
   "source": [
    "jakob_wpm_model = ols('j_wpm ~ C + A', factor_df).fit()\n",
    "print(jakob_wpm_model.summary())\n",
    "\n",
    "jakob_wpm_model_extended = ols('j_wpm ~ C + A + B', factor_df).fit()"
   ]
  },
  {
   "cell_type": "markdown",
   "metadata": {},
   "source": [
    "## Is the model significant?"
   ]
  },
  {
   "cell_type": "code",
   "execution_count": 88,
   "metadata": {
    "collapsed": false
   },
   "outputs": [
    {
     "name": "stdout",
     "output_type": "stream",
     "text": [
      "Investigating model: j_wpm ~ A + B + C\n",
      "Intercept    66.27875\n",
      "A[T.+]        8.89375\n",
      "B[T.+]       -3.97875\n",
      "C[T.+]       -6.16875\n",
      "dtype: float64\n",
      "ANOVA p-value: 1.1797247659233358e-14\n",
      "---\n",
      "Investigating model: j_wpm ~ A + B + C + D\n",
      "Intercept    67.305625\n",
      "A[T.+]        8.893750\n",
      "B[T.+]       -3.978750\n",
      "C[T.+]       -6.168750\n",
      "D[T.+]       -2.053750\n",
      "dtype: float64\n",
      "ANOVA p-value: 1.9399695459523535e-13\n",
      "---\n",
      "Investigating model: e_epm ~ A + B + BC\n",
      "Intercept    16.4375\n",
      "A[T.+]        3.9375\n",
      "B[T.+]       -0.8125\n",
      "BC[T.-]      -8.6875\n",
      "dtype: float64\n",
      "ANOVA p-value: 2.440665194914714e-09\n",
      "---\n",
      "Investigating model: e_wpm ~ A\n",
      "Intercept    35.14375\n",
      "A[T.+]        7.97625\n",
      "dtype: float64\n",
      "ANOVA p-value: 1.6154844491266806e-14\n"
     ]
    }
   ],
   "source": [
    "def print_results_for_model(df, model_string):\n",
    "    print('Investigating model: {}'.format(model_string))\n",
    "    model = ols(model_string, df).fit()\n",
    "    print(model.params)\n",
    "    anova_res = model.f_test(model.params).pvalue\n",
    "    print('ANOVA p-value: {}'.format(anova_res))\n",
    "    return model\n",
    "\n",
    "j_wpm_mod = print_results_for_model(factor_df, 'j_wpm ~ A + B + C')\n",
    "print('---')\n",
    "j_epm_mod = print_results_for_model(factor_df, 'j_wpm ~ A + B + C + D')\n",
    "print('---')\n",
    "erik_epm_model = print_results_for_model(factor_df, 'e_epm ~ A + B + BC')\n",
    "print('---')\n",
    "erik_wpm_model = print_results_for_model(factor_df, 'e_wpm ~ A')\n",
    "\n",
    "# sm.graphics.plot_partregress(j_wpm_mod)\n"
   ]
  },
  {
   "cell_type": "markdown",
   "metadata": {
    "collapsed": true,
    "deletable": true,
    "editable": true
   },
   "source": [
    "Interesting examples for regression plots: http://statsmodels.sourceforge.net/devel/examples/notebooks/generated/example_regression_plots.html"
   ]
  },
  {
   "cell_type": "markdown",
   "metadata": {},
   "source": [
    "## Outlier testing\n",
    "\n",
    "Seems to indicate that I had an error-wise outlier in the last run, writing 3 wpm faster than expected - seems likely. Also indicates that Erik's first run had an abnormally low number of errors (almost four points lower!).\n",
    "\n",
    "Also, first three-finger run for Erik seems to have ended up abnormally low."
   ]
  },
  {
   "cell_type": "code",
   "execution_count": 89,
   "metadata": {
    "collapsed": false
   },
   "outputs": [
    {
     "name": "stdout",
     "output_type": "stream",
     "text": [
      "      student_resid   unadj_p   bonf(p)\n",
      "Run                                    \n",
      "7.0       -0.679790  0.512066  1.000000\n",
      "1.0       -0.431583  0.675201  1.000000\n",
      "4.0       -0.424451  0.680224  1.000000\n",
      "13.0      -0.561192  0.587021  1.000000\n",
      "5.0        1.231444  0.246331  1.000000\n",
      "8.0       -0.027517  0.978588  1.000000\n",
      "11.0       1.056717  0.315500  1.000000\n",
      "14.0      -0.414781  0.687060  1.000000\n",
      "3.0       -0.109884  0.914675  1.000000\n",
      "15.0      -2.066801  0.065635  1.000000\n",
      "10.0      -1.845187  0.094790  1.000000\n",
      "9.0        1.472552  0.171634  1.000000\n",
      "6.0        0.383304  0.709517  1.000000\n",
      "2.0        0.122304  0.905081  1.000000\n",
      "12.0       0.092504  0.928124  1.000000\n",
      "16.0       2.296083  0.044550  0.712804\n"
     ]
    }
   ],
   "source": [
    "print(j_epm_mod.outlier_test())"
   ]
  },
  {
   "cell_type": "code",
   "execution_count": 63,
   "metadata": {
    "collapsed": false
   },
   "outputs": [
    {
     "name": "stdout",
     "output_type": "stream",
     "text": [
      "      student_resid   unadj_p   bonf(p)\n",
      "Run                                    \n",
      "7.0       -0.208952  0.837991  1.000000\n",
      "1.0       -1.276191  0.226035  1.000000\n",
      "4.0       -0.600544  0.559315  1.000000\n",
      "13.0      -0.126031  0.901794  1.000000\n",
      "5.0        1.192646  0.256058  1.000000\n",
      "8.0        0.889878  0.391023  1.000000\n",
      "11.0      -0.143253  0.888467  1.000000\n",
      "14.0       0.587180  0.567967  1.000000\n",
      "3.0       -1.002702  0.335796  1.000000\n",
      "15.0      -1.037908  0.319775  1.000000\n",
      "10.0      -1.605583  0.134344  1.000000\n",
      "9.0        0.102229  0.920264  1.000000\n",
      "6.0        1.234398  0.240682  1.000000\n",
      "2.0       -0.191683  0.851196  1.000000\n",
      "12.0      -0.213731  0.834345  1.000000\n",
      "16.0       2.964324  0.011825  0.189204\n"
     ]
    }
   ],
   "source": [
    "print(jakob_wpm_model.outlier_test())"
   ]
  },
  {
   "cell_type": "code",
   "execution_count": 68,
   "metadata": {
    "collapsed": false
   },
   "outputs": [
    {
     "name": "stdout",
     "output_type": "stream",
     "text": [
      "      student_resid   unadj_p   bonf(p)\n",
      "Run                                    \n",
      "7.0       -3.724666  0.003354  0.053671\n",
      "1.0        0.748767  0.469706  1.000000\n",
      "4.0        0.580288  0.573415  1.000000\n",
      "13.0      -0.127117  0.901142  1.000000\n",
      "5.0        0.416062  0.685367  1.000000\n",
      "8.0        0.852490  0.412119  1.000000\n",
      "11.0      -0.222792  0.827780  1.000000\n",
      "14.0       0.127117  0.901142  1.000000\n",
      "3.0       -0.994590  0.341311  1.000000\n",
      "15.0       0.817667  0.430902  1.000000\n",
      "10.0      -0.319024  0.755684  1.000000\n",
      "9.0        1.627085  0.131998  1.000000\n",
      "6.0        1.256454  0.234979  1.000000\n",
      "2.0       -0.286870  0.779544  1.000000\n",
      "12.0      -1.030889  0.324727  1.000000\n",
      "16.0      -0.748767  0.469706  1.000000\n"
     ]
    }
   ],
   "source": [
    "print(erik_epm_model.outlier_test())"
   ]
  },
  {
   "cell_type": "code",
   "execution_count": 70,
   "metadata": {
    "collapsed": false
   },
   "outputs": [
    {
     "name": "stdout",
     "output_type": "stream",
     "text": [
      "      student_resid   unadj_p   bonf(p)\n",
      "Run                                    \n",
      "7.0       -1.886133  0.081816  1.000000\n",
      "1.0       -0.608084  0.553608  1.000000\n",
      "4.0        0.263511  0.796287  1.000000\n",
      "13.0      -3.065853  0.009021  0.144329\n",
      "5.0        0.271229  0.790474  1.000000\n",
      "8.0        0.468284  0.647336  1.000000\n",
      "11.0      -0.172107  0.866004  1.000000\n",
      "14.0      -0.936871  0.365905  1.000000\n",
      "3.0        0.278951  0.784671  1.000000\n",
      "15.0       1.448029  0.171295  1.000000\n",
      "10.0      -0.367727  0.718994  1.000000\n",
      "9.0        0.334730  0.743168  1.000000\n",
      "6.0        0.273803  0.788538  1.000000\n",
      "2.0        0.737022  0.474201  1.000000\n",
      "12.0       0.845528  0.413108  1.000000\n",
      "16.0       1.369092  0.194161  1.000000\n"
     ]
    }
   ],
   "source": [
    "print(erik_wpm_model.outlier_test())"
   ]
  },
  {
   "cell_type": "markdown",
   "metadata": {},
   "source": [
    "## Let's investigate the residuals\n",
    "\n",
    "Looks like Jakob's speed is fairly consistent, except for last run.\n",
    "Loks like Erik has a slight decrese in error rate, and a distinct increase in typing speed."
   ]
  },
  {
   "cell_type": "code",
   "execution_count": 99,
   "metadata": {
    "collapsed": false
   },
   "outputs": [
    {
     "data": {
      "image/png": "[encoded data removed]",
      "text/plain": [
       "<matplotlib.figure.Figure at 0x7fcc4fed8390>"
      ]
     },
     "metadata": {},
     "output_type": "display_data"
    },
    {
     "data": {
      "image/png": "[encoded data removed]",
      "text/plain": [
       "<matplotlib.figure.Figure at 0x7fcc4fcc2be0>"
      ]
     },
     "metadata": {},
     "output_type": "display_data"
    },
    {
     "data": {
      "image/png": "[encoded data removed]",
      "text/plain": [
       "<matplotlib.figure.Figure at 0x7fcc4feb65f8>"
      ]
     },
     "metadata": {},
     "output_type": "display_data"
    },
    {
     "data": {
      "image/png": "[encoded data removed]",
      "text/plain": [
       "<matplotlib.figure.Figure at 0x7fcc4fcc03c8>"
      ]
     },
     "metadata": {},
     "output_type": "display_data"
    }
   ],
   "source": [
    "def generate_fit_plot(model, title, xlab='Run', ylab=''):\n",
    "\n",
    "    resids = model.resid\n",
    "    x = range(len(resids))\n",
    "    fit = np.polyfit(x, resids, 1)\n",
    "    fit_fn = np.poly1d(fit)\n",
    "    plt.plot(x, resids, 'yo', x, fit_fn(x), '--k')\n",
    "    plt.title(title)\n",
    "    plt.x_label(title)\n",
    "    return plt\n",
    "\n",
    "jakob_wpm_plt = generate_fit_plot(jakob_wpm_model, 'Jakob WPM residuals')\n",
    "jakob_wpm_plt.show()\n",
    "\n",
    "jakob_epm_plt = generate_fit_plot(j_epm_mod, 'Jakob EPM residuals')\n",
    "jakob_epm_plt.show()\n",
    "\n",
    "erik_wpm_plt = generate_fit_plot(erik_wpm_model, 'Erik WPM residuals')\n",
    "erik_wpm_plt.show()\n",
    "\n",
    "erik_epm_plt = generate_fit_plot(erik_epm_model, 'Erik EPM residuals')\n",
    "erik_epm_plt.show()"
   ]
  },
  {
   "cell_type": "code",
   "execution_count": null,
   "metadata": {
    "collapsed": true
   },
   "outputs": [],
   "source": []
  }
 ],
 "metadata": {
  "kernelspec": {
   "display_name": "Python 3",
   "language": "python",
   "name": "python3"
  },
  "language_info": {
   "codemirror_mode": {
    "name": "ipython",
    "version": 3
   },
   "file_extension": ".py",
   "mimetype": "text/x-python",
   "name": "python",
   "nbconvert_exporter": "python",
   "pygments_lexer": "ipython3",
   "version": "3.5.2"
  }
 },
 "nbformat": 4,
 "nbformat_minor": 2
}
