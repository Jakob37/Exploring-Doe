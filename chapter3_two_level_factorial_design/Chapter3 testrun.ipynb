{
 "cells": [
  {
   "cell_type": "markdown",
   "metadata": {},
   "source": [
    "# Chapter 3 testrun\n",
    "\n",
    "Here, I will run explore setting up DOE run-through in Python based on the DOE simplified book, chapter 3."
   ]
  },
  {
   "cell_type": "code",
   "execution_count": 100,
   "metadata": {
    "collapsed": true
   },
   "outputs": [],
   "source": [
    "import pandas as pd\n",
    "from functools import reduce\n",
    "import matplotlib.pyplot as plt\n",
    "import numpy as np\n",
    "import math"
   ]
  },
  {
   "cell_type": "code",
   "execution_count": 72,
   "metadata": {
    "collapsed": false
   },
   "outputs": [
    {
     "name": "stdout",
     "output_type": "stream",
     "text": [
      "      brand time power  taste  bullets\n",
      "run                                   \n",
      "1    costly    4    75     75      3.5\n",
      "2     cheap    6    75     71      1.6\n",
      "3     cheap    4   100     81      0.7\n",
      "4    costly    6    75     80      1.2\n",
      "5    costly    4   100     77      0.7\n",
      "6    costly    6   100     32      0.3\n",
      "7     cheap    6   100     42      0.5\n",
      "8     cheap    4    75     74      3.1\n",
      "     y1   y2  A  B  C AB AC BC ABC\n",
      "run                               \n",
      "1    75  3.5  +  -  -  -  -  +   +\n",
      "2    71  1.6  -  +  -  -  +  -   +\n",
      "3    81  0.7  -  -  +  +  -  -   +\n",
      "4    80  1.2  +  +  -  +  -  -   -\n",
      "5    77  0.7  +  -  +  -  +  -   -\n",
      "6    32  0.3  +  +  +  +  +  +   +\n",
      "7    42  0.5  -  +  +  -  -  +   -\n",
      "8    74  3.1  -  -  -  +  +  +   -\n"
     ]
    }
   ],
   "source": [
    "df = pd.read_csv('input_data.csv', index_col=0)\n",
    "df['time'] = df['time'].astype('category')\n",
    "df['power'] = df['power'].astype('category')\n",
    "print(df)\n",
    "\n",
    "def get_high_low(x, low_category):\n",
    "    if x == low_category:\n",
    "        return '-'\n",
    "    else:\n",
    "        return '+'\n",
    "\n",
    "factor_df = pd.DataFrame(index=df.index)\n",
    "factor_df['y1'] = df['taste']\n",
    "factor_df['y2'] = df['bullets']\n",
    "factor_df['A'] = df['brand'].apply(get_high_low, args=('cheap',))\n",
    "factor_df['B'] = df['time'].apply(get_high_low, args=(4,))\n",
    "factor_df['C'] = df['power'].apply(get_high_low, args=(75,))\n",
    "\n",
    "def calculate_interaction(data_df, cols):\n",
    "    slices = data_df[cols].apply(tuple, axis=1)\n",
    "    \n",
    "    interaction = list()\n",
    "    for tup in slices:\n",
    "        int_tup = reduce(lambda a,b: '+' if a == b else '-', tup)\n",
    "        interaction.append(int_tup)\n",
    "    return interaction\n",
    "\n",
    "factor_df['AB'] = calculate_interaction(factor_df, ['A', 'B'])\n",
    "factor_df['AC'] = calculate_interaction(factor_df, ['A', 'C'])\n",
    "factor_df['BC'] = calculate_interaction(factor_df, ['B', 'C'])\n",
    "factor_df['ABC'] = calculate_interaction(factor_df, ['A', 'B', 'C'])\n",
    "\n",
    "print(factor_df)"
   ]
  },
  {
   "cell_type": "code",
   "execution_count": 74,
   "metadata": {
    "collapsed": false
   },
   "outputs": [
    {
     "name": "stdout",
     "output_type": "stream",
     "text": [
      "       A     B    C    AB    BC    AC   ABC\n",
      "y1    -1 -20.5  -17   0.5 -21.5    -6  -3.5\n",
      "y2 -0.05  -1.1 -1.8 -0.25   0.8 -0.05  0.15\n"
     ]
    }
   ],
   "source": [
    "factor_effects = pd.DataFrame(columns=['A', 'B', 'C', 'AB', 'BC', 'AC', 'ABC'], index=['y1', 'y2'])\n",
    "\n",
    "def get_factor_effect(factor_col, effect_col, data_df):\n",
    "    \n",
    "    combined = zip(data_df[factor_col], data_df[effect_col])\n",
    "    summed = 0\n",
    "    for elem in combined:\n",
    "        level = elem[0]\n",
    "        value = elem[1]\n",
    "        if level == '+':\n",
    "            summed += value\n",
    "        else:\n",
    "            summed -= value\n",
    "    return summed\n",
    "\n",
    "for factor in factor_effects.columns:\n",
    "    for effect in factor_effects.index:\n",
    "        factor_effects.ix[effect, factor] = get_factor_effect(factor, effect, factor_df) / 4\n",
    "\n",
    "print(factor_effects)"
   ]
  },
  {
   "cell_type": "code",
   "execution_count": 122,
   "metadata": {
    "collapsed": false
   },
   "outputs": [
    {
     "data": {
      "image/png": "[encoded data removed]",
      "text/plain": [
       "<matplotlib.figure.Figure at 0x7fb7c1164a58>"
      ]
     },
     "metadata": {},
     "output_type": "display_data"
    },
    {
     "data": {
      "image/png": "[encoded data removed]",
      "text/plain": [
       "<matplotlib.figure.Figure at 0x7fb7c0f939e8>"
      ]
     },
     "metadata": {},
     "output_type": "display_data"
    }
   ],
   "source": [
    "y1_abs_effect = factor_effects.loc['y1'].map(abs).sort_values()\n",
    "y2_abs_effect = factor_effects.loc['y2'].map(abs).sort_values()\n",
    "\n",
    "def add_labels(plt, effect, prob):\n",
    "    for i in range(len(effect)):\n",
    "        plt.annotate(effect.index[i],\n",
    "                     xy = (effect[i], prob[i]))    \n",
    "\n",
    "def annotate(plt, title):\n",
    "    \n",
    "    plt.xlabel('Effect')\n",
    "    plt.ylabel('Cumulative probability')\n",
    "    plt.title(title)\n",
    "        \n",
    "plt.figure()\n",
    "cum_prob = np.arange(0, 1, 1 / len(y1_abs_effect))\n",
    "plt.plot(y1_abs_effect, cum_prob, 'x')\n",
    "add_labels(plt, y1_abs_effect, cum_prob)\n",
    "annotate(plt, 'Taste effect')\n",
    "plt.show()\n",
    "\n",
    "plt.figure()\n",
    "cum_prob = np.arange(0, 1, 1 / len(y2_abs_effect))\n",
    "plt.plot(y2_abs_effect, cum_prob, 'x')\n",
    "add_labels(plt, y2_abs_effect, cum_prob)\n",
    "annotate(plt, 'Bullet count effect')\n",
    "plt.show()\n"
   ]
  },
  {
   "cell_type": "markdown",
   "metadata": {},
   "source": [
    "# Getting into the statistics\n",
    "\n",
    "Reference:\n",
    "* A - Brand\n",
    "* B - Time\n",
    "* C - Power\n",
    "* y1 - Taste\n",
    "* y2 - Bullets\n",
    "\n",
    "Steps below initially based on: http://www.marsja.se/three-ways-to-carry-out-2-way-anova-with-python/"
   ]
  },
  {
   "cell_type": "code",
   "execution_count": 136,
   "metadata": {
    "collapsed": false
   },
   "outputs": [
    {
     "name": "stdout",
     "output_type": "stream",
     "text": [
      "      brand time power  taste  bullets\n",
      "run                                   \n",
      "1    costly    4    75     75      3.5\n",
      "2     cheap    6    75     71      1.6\n",
      "3     cheap    4   100     81      0.7\n",
      "4    costly    6    75     80      1.2\n",
      "5    costly    4   100     77      0.7\n",
      "6    costly    6   100     32      0.3\n",
      "7     cheap    6   100     42      0.5\n",
      "8     cheap    4    75     74      3.1\n"
     ]
    }
   ],
   "source": [
    "print(df)"
   ]
  },
  {
   "cell_type": "code",
   "execution_count": 134,
   "metadata": {
    "collapsed": false
   },
   "outputs": [
    {
     "name": "stdout",
     "output_type": "stream",
     "text": [
      "     y1   y2  A  B  C AB AC BC ABC\n",
      "run                               \n",
      "1    75  3.5  +  -  -  -  -  +   +\n",
      "2    71  1.6  -  +  -  -  +  -   +\n",
      "3    81  0.7  -  -  +  +  -  -   +\n",
      "4    80  1.2  +  +  -  +  -  -   -\n",
      "5    77  0.7  +  -  +  -  +  -   -\n",
      "6    32  0.3  +  +  +  +  +  +   +\n",
      "7    42  0.5  -  +  +  -  -  +   -\n",
      "8    74  3.1  -  -  -  +  +  +   -\n"
     ]
    }
   ],
   "source": [
    "print(factor_df)"
   ]
  },
  {
   "cell_type": "code",
   "execution_count": 128,
   "metadata": {
    "collapsed": false
   },
   "outputs": [],
   "source": [
    "# Let's use some more statistics-related packages\n",
    "from statsmodels.formula.api import ols\n",
    "from statsmodels.stats.anova import anova_lm\n",
    "from statsmodels.graphics.factorplots import interaction_plot\n",
    "from scipy import stats"
   ]
  },
  {
   "cell_type": "code",
   "execution_count": 191,
   "metadata": {
    "collapsed": true
   },
   "outputs": [],
   "source": [
    "# Working tooth example\n",
    "\n",
    "# data = pd.read_csv('ToothGrowth.csv')\n",
    "# dose_series = data['dose']\n",
    "# print(dose_series.head())\n",
    "# print(data.head())\n",
    "# print(df.head())\n",
    "\n",
    "# plt.figure()\n",
    "# fig = interaction_plot(dose_series, data.supp, data.len,\n",
    "#              colors=['red','blue'], markers=['D','^'], ms=10)\n",
    "# plt.show()"
   ]
  },
  {
   "cell_type": "code",
   "execution_count": 193,
   "metadata": {
    "collapsed": false
   },
   "outputs": [
    {
     "name": "stdout",
     "output_type": "stream",
     "text": [
      "Not satisfied here :\\ Different from book, but why?\n"
     ]
    },
    {
     "data": {
      "image/png": "[encoded data removed]",
      "text/plain": [
       "<matplotlib.figure.Figure at 0x7fb7c1087cc0>"
      ]
     },
     "metadata": {},
     "output_type": "display_data"
    },
    {
     "data": {
      "image/png": "[encoded data removed]",
      "text/plain": [
       "<matplotlib.figure.Figure at 0x7fb7ba956588>"
      ]
     },
     "metadata": {},
     "output_type": "display_data"
    }
   ],
   "source": [
    "print('Not satisfied here :\\ Different from book, but why?')\n",
    "\n",
    "time_series = df['time'].astype('float')\n",
    "time_series.index = list(range(0,8))\n",
    "fig1 = interaction_plot(time_series, df['power'], df['taste'])\n",
    "# plt.show()\n",
    "\n",
    "b_series = factor_df['B'].map(lambda x: 0 if x == '-' else 1).astype('float')\n",
    "b_series.index = list(range(0,8))\n",
    "# print(b_series)\n",
    "fig2 = interaction_plot(b_series, factor_df['C'], factor_df['y1'])\n",
    "plt.show()"
   ]
  },
  {
   "cell_type": "markdown",
   "metadata": {},
   "source": [
    "# UPCOMING: ANOVAS AND PREDICTION"
   ]
  },
  {
   "cell_type": "code",
   "execution_count": null,
   "metadata": {
    "collapsed": true
   },
   "outputs": [],
   "source": []
  }
 ],
 "metadata": {
  "kernelspec": {
   "display_name": "Python 3",
   "language": "python",
   "name": "python3"
  },
  "language_info": {
   "codemirror_mode": {
    "name": "ipython",
    "version": 3
   },
   "file_extension": ".py",
   "mimetype": "text/x-python",
   "name": "python",
   "nbconvert_exporter": "python",
   "pygments_lexer": "ipython3",
   "version": "3.5.2"
  }
 },
 "nbformat": 4,
 "nbformat_minor": 2
}
